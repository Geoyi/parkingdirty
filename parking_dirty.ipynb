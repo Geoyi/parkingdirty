{
  "nbformat": 4,
  "nbformat_minor": 0,
  "metadata": {
    "colab": {
      "name": "parking_dirty.ipynb",
      "version": "0.3.2",
      "provenance": [],
      "include_colab_link": true
    },
    "kernelspec": {
      "name": "python3",
      "display_name": "Python 3"
    }
  },
  "cells": [
    {
      "cell_type": "markdown",
      "metadata": {
        "id": "view-in-github",
        "colab_type": "text"
      },
      "source": [
        "<a href=\"https://colab.research.google.com/github/bfraiche/parkingdirty/blob/master/parking_dirty.ipynb\" target=\"_parent\"><img src=\"https://colab.research.google.com/assets/colab-badge.svg\" alt=\"Open In Colab\"/></a>"
      ]
    },
    {
      "metadata": {
        "id": "yO6FYOKLxtoV",
        "colab_type": "code",
        "colab": {}
      },
      "cell_type": "code",
      "source": [
        "### make sure i can access common libraries + keras\n",
        "# import numpy as np\n",
        "# import pandas as pd\n",
        "# import scipy\n",
        "# import matplotlib\n",
        "# import tensorflow\n",
        "# import keras\n",
        "# import json"
      ],
      "execution_count": 0,
      "outputs": []
    },
    {
      "metadata": {
        "id": "Tkkuq4y9z45O",
        "colab_type": "code",
        "colab": {}
      },
      "cell_type": "code",
      "source": [
        "import requests\n",
        "import zipfile\n",
        "import io\n",
        "\n",
        "pkngdrty \t= 'http://parkingdirty.com/BlockedBikeLaneTrainingSingleCam.zip'\n",
        "\n",
        "rPd = requests.get(pkngdrty)\n",
        "zPd = zipfile.ZipFile(io.BytesIO(rPd.content))\n",
        "zPd.extractall()\n"
      ],
      "execution_count": 0,
      "outputs": []
    },
    {
      "metadata": {
        "id": "jLI4ClhtKg7a",
        "colab_type": "code",
        "colab": {
          "base_uri": "https://localhost:8080/",
          "height": 34
        },
        "outputId": "edd2ae6c-0e73-4112-a170-099ac4fb759a"
      },
      "cell_type": "code",
      "source": [
        "type(zPd)"
      ],
      "execution_count": 4,
      "outputs": [
        {
          "output_type": "execute_result",
          "data": {
            "text/plain": [
              "zipfile.ZipFile"
            ]
          },
          "metadata": {
            "tags": []
          },
          "execution_count": 4
        }
      ]
    },
    {
      "metadata": {
        "id": "unoOmy1-Kq9c",
        "colab_type": "code",
        "colab": {
          "base_uri": "https://localhost:8080/",
          "height": 802
        },
        "outputId": "2c9df6d0-e834-4935-b395-c5c9bdbaf23c"
      },
      "cell_type": "code",
      "source": [
        "globals()"
      ],
      "execution_count": 5,
      "outputs": [
        {
          "output_type": "execute_result",
          "data": {
            "text/plain": [
              "{'In': ['',\n",
              "  'import requests\\nimport zipfile\\nimport io\\n\\nprint(\"okay\")\\n\\n# pkngdrty \\t= \\'http://parkingdirty.com/BlockedBikeLaneTrainingSingleCam.zip\\'\\n\\n# rPd = requests.get(pkngdrty)\\n# zPd = zipfile.ZipFile(io.BytesIO(rPd.content))\\n# zPd.extractall()',\n",
              "  'import requests\\nimport zipfile\\nimport io\\n\\nprint(\"okay\")\\n\\npkngdrty \\t= \\'http://parkingdirty.com/BlockedBikeLaneTrainingSingleCam.zip\\'\\n\\nrPd = requests.get(pkngdrty)\\nzPd = zipfile.ZipFile(io.BytesIO(rPd.content))\\nzPd.extractall()',\n",
              "  'locals()',\n",
              "  'type(zPd)',\n",
              "  'globals()'],\n",
              " 'Out': {3: {...}, 4: zipfile.ZipFile},\n",
              " '_': zipfile.ZipFile,\n",
              " '_3': {...},\n",
              " '_4': zipfile.ZipFile,\n",
              " '__': {...},\n",
              " '___': '',\n",
              " '__builtin__': <module 'builtins' (built-in)>,\n",
              " '__builtins__': <module 'builtins' (built-in)>,\n",
              " '__doc__': 'Automatically created module for IPython interactive environment',\n",
              " '__loader__': None,\n",
              " '__name__': '__main__',\n",
              " '__package__': None,\n",
              " '__spec__': None,\n",
              " '_dh': ['/content'],\n",
              " '_i': 'type(zPd)',\n",
              " '_i1': 'import requests\\nimport zipfile\\nimport io\\n\\nprint(\"okay\")\\n\\n# pkngdrty \\t= \\'http://parkingdirty.com/BlockedBikeLaneTrainingSingleCam.zip\\'\\n\\n# rPd = requests.get(pkngdrty)\\n# zPd = zipfile.ZipFile(io.BytesIO(rPd.content))\\n# zPd.extractall()',\n",
              " '_i2': 'import requests\\nimport zipfile\\nimport io\\n\\nprint(\"okay\")\\n\\npkngdrty \\t= \\'http://parkingdirty.com/BlockedBikeLaneTrainingSingleCam.zip\\'\\n\\nrPd = requests.get(pkngdrty)\\nzPd = zipfile.ZipFile(io.BytesIO(rPd.content))\\nzPd.extractall()',\n",
              " '_i3': 'locals()',\n",
              " '_i4': 'type(zPd)',\n",
              " '_i5': 'globals()',\n",
              " '_ih': ['',\n",
              "  'import requests\\nimport zipfile\\nimport io\\n\\nprint(\"okay\")\\n\\n# pkngdrty \\t= \\'http://parkingdirty.com/BlockedBikeLaneTrainingSingleCam.zip\\'\\n\\n# rPd = requests.get(pkngdrty)\\n# zPd = zipfile.ZipFile(io.BytesIO(rPd.content))\\n# zPd.extractall()',\n",
              "  'import requests\\nimport zipfile\\nimport io\\n\\nprint(\"okay\")\\n\\npkngdrty \\t= \\'http://parkingdirty.com/BlockedBikeLaneTrainingSingleCam.zip\\'\\n\\nrPd = requests.get(pkngdrty)\\nzPd = zipfile.ZipFile(io.BytesIO(rPd.content))\\nzPd.extractall()',\n",
              "  'locals()',\n",
              "  'type(zPd)',\n",
              "  'globals()'],\n",
              " '_ii': 'locals()',\n",
              " '_iii': 'import requests\\nimport zipfile\\nimport io\\n\\nprint(\"okay\")\\n\\npkngdrty \\t= \\'http://parkingdirty.com/BlockedBikeLaneTrainingSingleCam.zip\\'\\n\\nrPd = requests.get(pkngdrty)\\nzPd = zipfile.ZipFile(io.BytesIO(rPd.content))\\nzPd.extractall()',\n",
              " '_oh': {3: {...}, 4: zipfile.ZipFile},\n",
              " '_sh': <module 'IPython.core.shadowns' from '/usr/local/lib/python3.6/dist-packages/IPython/core/shadowns.py'>,\n",
              " 'exit': <IPython.core.autocall.ZMQExitAutocall at 0x7f97243029b0>,\n",
              " 'get_ipython': <bound method InteractiveShell.get_ipython of <google.colab._shell.Shell object at 0x7f9730aa4ba8>>,\n",
              " 'io': <module 'io' from '/usr/lib/python3.6/io.py'>,\n",
              " 'pkngdrty': 'http://parkingdirty.com/BlockedBikeLaneTrainingSingleCam.zip',\n",
              " 'quit': <IPython.core.autocall.ZMQExitAutocall at 0x7f97243029b0>,\n",
              " 'rPd': <Response [200]>,\n",
              " 'requests': <module 'requests' from '/usr/local/lib/python3.6/dist-packages/requests/__init__.py'>,\n",
              " 'zPd': <zipfile.ZipFile file=<_io.BytesIO object at 0x7f970f5301a8> mode='r'>,\n",
              " 'zipfile': <module 'zipfile' from '/usr/lib/python3.6/zipfile.py'>}"
            ]
          },
          "metadata": {
            "tags": []
          },
          "execution_count": 5
        }
      ]
    },
    {
      "metadata": {
        "id": "L_c04UljLKAy",
        "colab_type": "code",
        "colab": {}
      },
      "cell_type": "code",
      "source": [
        ""
      ],
      "execution_count": 0,
      "outputs": []
    }
  ]
}